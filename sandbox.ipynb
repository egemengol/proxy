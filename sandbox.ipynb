{
 "cells": [
  {
   "cell_type": "code",
   "execution_count": 1,
   "id": "3b0a9a84-2b7c-40bb-bbab-a67ba251ef03",
   "metadata": {
    "tags": []
   },
   "outputs": [],
   "source": [
    "import (\n",
    "    \"github.com/avast/retry-go/v4\"\n",
    ")"
   ]
  },
  {
   "cell_type": "code",
   "execution_count": 11,
   "id": "20c1e739-7e1e-48ca-9958-97aaa9a73922",
   "metadata": {
    "tags": []
   },
   "outputs": [
    {
     "name": "stdout",
     "output_type": "stream",
     "text": [
      "Waited 10.959µs\n",
      "Waited 237.508458ms\n",
      "Waited 236.293458ms\n",
      "Waited 202.747292ms\n",
      "Waited 222.882833ms\n",
      "Waited 205.08ms\n",
      "Waited 214.247167ms\n",
      "Waited 236.420708ms\n",
      "Waited 222.264417ms\n",
      "Waited 222.0605ms\n",
      "Waited 212.877625ms\n",
      "Waited 209.930292ms\n",
      "Waited 219.545833ms\n",
      "Waited 229.5815ms\n",
      "Waited 232.152625ms\n",
      "Waited 216.654208ms\n",
      "Waited 217.124084ms\n",
      "Waited 226.633291ms\n",
      "Waited 214.635959ms\n",
      "Waited 203.697416ms\n"
     ]
    }
   ],
   "source": [
    "%%\n",
    "at := time.Now()\n",
    "retry.Do(\n",
    "\t\tfunc() error {\n",
    "            now := time.Now()\n",
    "            fmt.Printf(\"Waited %+v\\n\", now.Sub(at))\n",
    "            at = now\n",
    "            return errors.New(\"errrrr\")\n",
    "\t\t},\n",
    "\t\tretry.Attempts(20),\n",
    "        retry.DelayType(retry.CombineDelay(retry.FixedDelay, retry.RandomDelay)),\n",
    "\t\tretry.Delay(200*time.Millisecond),\n",
    "\t\tretry.MaxJitter(40*time.Millisecond),\n",
    "\t)"
   ]
  },
  {
   "cell_type": "code",
   "execution_count": null,
   "id": "3fc8ca96-3fa4-4866-9bc9-af63e307774f",
   "metadata": {},
   "outputs": [],
   "source": []
  }
 ],
 "metadata": {
  "kernelspec": {
   "display_name": "Go (gonb)",
   "language": "go",
   "name": "gonb"
  },
  "language_info": {
   "codemirror_mode": "",
   "file_extension": ".go",
   "mimetype": "",
   "name": "go",
   "nbconvert_exporter": "",
   "pygments_lexer": "",
   "version": "go1.22.0"
  }
 },
 "nbformat": 4,
 "nbformat_minor": 5
}
